{
 "cells": [
  {
   "cell_type": "code",
   "execution_count": 1,
   "id": "e26eab05",
   "metadata": {},
   "outputs": [
    {
     "name": "stdout",
     "output_type": "stream",
     "text": [
      "36\n"
     ]
    }
   ],
   "source": [
    "def multiplylist(mylist) :\n",
    "    result = 1\n",
    "    for x in mylist:\n",
    "        result = result * x\n",
    "    return result\n",
    "list1 = [2, 3, 6]\n",
    "print(multiplylist(list1))"
   ]
  },
  {
   "cell_type": "code",
   "execution_count": 2,
   "id": "ed8853c7",
   "metadata": {},
   "outputs": [
    {
     "name": "stdout",
     "output_type": "stream",
     "text": [
      "(2, 5) (4,) (2, 5) (2, 5) (4,) (2, 3) (1, 2) (4,) (4,) (2, 3) "
     ]
    }
   ],
   "source": [
    "def last(n): return n[-1] \n",
    "def sort_list_last(tuples):\n",
    "  return sorted(tuples, key=last)\n",
    "print(sort_list_last([(2, 5), (1, 2), (4, 4), (2, 3), (2, 1)]))\n",
    "         \n",
    "            \n",
    "           "
   ]
  },
  {
   "cell_type": "code",
   "execution_count": 168,
   "id": "3dccc712",
   "metadata": {},
   "outputs": [
    {
     "name": "stdout",
     "output_type": "stream",
     "text": [
      "Counter({'a': 400, 'b': 400, 'd': 400, 'c': 300})\n"
     ]
    }
   ],
   "source": [
    "from collections import Counter\n",
    "d1 = {'a': 100, 'b': 200, 'c':300}\n",
    "d2 = {'a': 300, 'b': 200, 'd':400}\n",
    "Cd = Counter(d1) + Counter(d2)\n",
    "print(Cd)"
   ]
  },
  {
   "cell_type": "code",
   "execution_count": 169,
   "id": "2a890306",
   "metadata": {},
   "outputs": [
    {
     "name": "stdout",
     "output_type": "stream",
     "text": [
      "please input a number 9\n",
      "{1: 1, 2: 4, 3: 9, 4: 16, 5: 25, 6: 36, 7: 49, 8: 64, 9: 81}\n"
     ]
    }
   ],
   "source": [
    "n= int(input(\"please input a number \"))\n",
    "my_dictionary={}\n",
    "for x in range(1,n+1):\n",
    "  #  print(x)\n",
    "    my_dictionary[x] = x*x\n",
    "\n",
    "print(my_dictionary)"
   ]
  },
  {
   "cell_type": "code",
   "execution_count": 1,
   "id": "3b1d39f0",
   "metadata": {},
   "outputs": [
    {
     "name": "stdout",
     "output_type": "stream",
     "text": [
      "[('item3', '24.5'), ('item2', '15.10'), ('item1', '12.20')]\n"
     ]
    }
   ],
   "source": [
    "list1 = [('item1', '12.20'), ('item2', '15.10'), ('item3', '24.5')]\n",
    "list1.reverse()\n",
    "print(list1)"
   ]
  }
 ],
 "metadata": {
  "kernelspec": {
   "display_name": "Python 3 (ipykernel)",
   "language": "python",
   "name": "python3"
  },
  "language_info": {
   "codemirror_mode": {
    "name": "ipython",
    "version": 3
   },
   "file_extension": ".py",
   "mimetype": "text/x-python",
   "name": "python",
   "nbconvert_exporter": "python",
   "pygments_lexer": "ipython3",
   "version": "3.9.12"
  }
 },
 "nbformat": 4,
 "nbformat_minor": 5
}
