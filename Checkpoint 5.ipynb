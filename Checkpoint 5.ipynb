{
 "cells": [
  {
   "cell_type": "code",
   "execution_count": 15,
   "id": "c4ab4d29",
   "metadata": {},
   "outputs": [
    {
     "name": "stdout",
     "output_type": "stream",
     "text": [
      " x =  1\n",
      " y =  2\n",
      " z =  3\n"
     ]
    }
   ],
   "source": [
    "class point3D:\n",
    "    def __init__(self, x,y,z):\n",
    "        self.x = x\n",
    "        self.y = y\n",
    "        self.z = z\n",
    "p = point3D(1,2,3)\n",
    "\n",
    "print(\" x = \",p.x)\n",
    "print(\" y = \",p.y)\n",
    "print(\" z = \",p.z)"
   ]
  },
  {
   "cell_type": "code",
   "execution_count": 6,
   "id": "f751eed9",
   "metadata": {},
   "outputs": [
    {
     "name": "stdout",
     "output_type": "stream",
     "text": [
      "12\n",
      "14\n"
     ]
    }
   ],
   "source": [
    "class Rectangle:\n",
    "    def __init__(self, l, w):\n",
    "        self.length = l\n",
    "        self.width  = w\n",
    "    def rectangle_area(self):\n",
    "        return self.length*self.width\n",
    "    def rectangle_perimeter(self):\n",
    "        return 2*(self.length + self.width)\n",
    "my_rectangle = Rectangle(4,3)\n",
    "print(my_rectangle.rectangle_area())\n",
    "print(my_rectangle.rectangle_perimeter())\n",
    "\n",
    "    "
   ]
  },
  {
   "cell_type": "code",
   "execution_count": 7,
   "id": "07ccfce5",
   "metadata": {},
   "outputs": [
    {
     "name": "stdout",
     "output_type": "stream",
     "text": [
      "78.53981633974483\n",
      "31.41592653589793\n"
     ]
    }
   ],
   "source": [
    "class Circle:\n",
    "    def __init__(self, o, r):\n",
    "        self.center = o\n",
    "        self.radius  = r\n",
    "    def circle_area(self):\n",
    "        import math\n",
    "        return math.pi*self.radius**2\n",
    "    def circle_perimeter(self):\n",
    "        import math\n",
    "        return 2*math.pi*self.radius\n",
    "my_circle = Circle(2,5)\n",
    "print(my_circle.circle_area())\n",
    "print(my_circle.circle_perimeter())"
   ]
  },
  {
   "cell_type": "code",
   "execution_count": null,
   "id": "9576c2fb",
   "metadata": {},
   "outputs": [],
   "source": [
    "Suppose we want to model a bank account with support for deposit and withdraw operations. \n",
    "Let’s create a Python class named Bank defined by its balance.\n",
    "Define two methods, deposit and withdraw, to compute the new amount of each operation."
   ]
  },
  {
   "cell_type": "code",
   "execution_count": 13,
   "id": "56efb29c",
   "metadata": {},
   "outputs": [
    {
     "name": "stdout",
     "output_type": "stream",
     "text": [
      " please amount to be Deposited 1000\n",
      " Amount Deposited:  1000.0\n",
      "Enter amount to be Withdrawn: 500\n",
      " You Withdrew: 500.0\n",
      " Net Available Balance =  500.0\n"
     ]
    }
   ],
   "source": [
    "class Bank:\n",
    "    def __init__(self):\n",
    "        self.balance = 0\n",
    "    def deposite(self):\n",
    "        amount = float(input(\" please enter amount to be Deposited \"))\n",
    "        self.balance += amount\n",
    "        print(\" Amount Deposited: \",amount)\n",
    "    def withdraw(self):\n",
    "        amount = float(input(\" please Enter amount to be Withdrawn: \"))\n",
    "        if self.balance>=amount:\n",
    "            self.balance-=amount\n",
    "            print(\" You Withdrew:\", amount)\n",
    "        else:\n",
    "            print(\" poor balance  \")\n",
    "    \n",
    "    def display(self):\n",
    "        print(\" your Balance = \",self.balance)\n",
    "new_amount = Bank()\n",
    "new_amount.deposite()\n",
    "new_amount.withdraw()\n",
    "new_amount.display()"
   ]
  }
 ],
 "metadata": {
  "kernelspec": {
   "display_name": "Python 3 (ipykernel)",
   "language": "python",
   "name": "python3"
  },
  "language_info": {
   "codemirror_mode": {
    "name": "ipython",
    "version": 3
   },
   "file_extension": ".py",
   "mimetype": "text/x-python",
   "name": "python",
   "nbconvert_exporter": "python",
   "pygments_lexer": "ipython3",
   "version": "3.9.12"
  }
 },
 "nbformat": 4,
 "nbformat_minor": 5
}
