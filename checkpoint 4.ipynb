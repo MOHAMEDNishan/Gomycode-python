{
 "cells": [
  {
   "cell_type": "code",
   "execution_count": 51,
   "id": "a2ba95c3",
   "metadata": {},
   "outputs": [
    {
     "name": "stdout",
     "output_type": "stream",
     "text": [
      " please write a number 3\n",
      " please write a number 4\n",
      " please write a number 5\n",
      "the largest number is  5\n"
     ]
    }
   ],
   "source": [
    "def maximum(a, b, c):\n",
    "\n",
    "    if a > b and a > c: \n",
    "        return(a)\n",
    "    elif b> a and b > c:\n",
    "        return(b)\n",
    "    else:\n",
    "        return(c)\n",
    "\n",
    "a = int(input(\" please write a number \")) \n",
    "b = int(input(\" please write a number \"))\n",
    "c = int(input(\" please write a number \"))\n",
    "print(\"the largest number is \", maximum(a, b, c))"
   ]
  },
  {
   "cell_type": "code",
   "execution_count": 48,
   "id": "7b6ee314",
   "metadata": {},
   "outputs": [
    {
     "name": "stdout",
     "output_type": "stream",
     "text": [
      "please input a number 5\n",
      "please input a number 4\n",
      "9  ,  1\n"
     ]
    }
   ],
   "source": [
    "def calculation1(a,b):\n",
    "    x = int(a)\n",
    "    y = int(b)\n",
    "    return (x+y)\n",
    "def calculation2(a,b):\n",
    "    x = int(a)\n",
    "    y = int(b)\n",
    "    return (x+-y)\n",
    "\n",
    "a = input(\"please input a number \")\n",
    "b = input(\"please input a number \")\n",
    "\n",
    "print (calculation1(a,b),\" , \", calculation2(a,b))"
   ]
  },
  {
   "cell_type": "code",
   "execution_count": 98,
   "id": "16714e3d",
   "metadata": {},
   "outputs": [
    {
     "name": "stdout",
     "output_type": "stream",
     "text": [
      "Enter number of elements: 5\n",
      "1\n",
      "2\n",
      "3\n",
      "4\n",
      "5\n",
      " this is the sum of the even numbers =  6\n",
      " this is the multiply of the odd numbers =  15\n"
     ]
    }
   ],
   "source": [
    "\n",
    "def sumList(list1):\n",
    "    total = 0\n",
    "    for i in range(len(list1)):\n",
    "        total = total + list1[i]\n",
    "        #print(total)\n",
    "    return total\n",
    "def multiplyList(list1) :\n",
    "    Multiply = 1\n",
    "    for i in range(len(list1)):\n",
    "         Multiply = Multiply * list1[i]\n",
    "    return Multiply   \n",
    "def evenlist(list1):\n",
    "    list2 = []\n",
    "    list3 = []\n",
    "    for i in list1:\n",
    "        if i%2 == 0:\n",
    "            list2.append(i)\n",
    "        else:\n",
    "            list3.append(i)\n",
    "    return list2 , list3\n",
    "list1 = []\n",
    "n = int(input(\"Enter number of elements: \"))\n",
    "for i in range(n):\n",
    "    ele = int(input())\n",
    "    list1.append(ele) \n",
    "print(\" this is the sum of the even numbers = \" ,sumList(evenlist(list1)[0]))\n",
    "\n",
    "print(\" this is the multiply of the odd numbers = \" ,multiplyList(evenlist(list1)[1]))"
   ]
  },
  {
   "cell_type": "code",
   "execution_count": 3,
   "id": "fbf1cd6d",
   "metadata": {},
   "outputs": [
    {
     "name": "stdout",
     "output_type": "stream",
     "text": [
      "Please enter comma sparated words:green-red-yellow-black-white\n",
      "['green', 'red', 'yellow', 'black', 'white']\n",
      "black, green, red, white, yellow\n"
     ]
    }
   ],
   "source": [
    "words=input('Please enter comma sparated words:')\n",
    "k= words.split(\"-\")\n",
    "print(k)\n",
    "k.sort()\n",
    "print(', '.join(k))"
   ]
  },
  {
   "cell_type": "code",
   "execution_count": 43,
   "id": "298d1265",
   "metadata": {},
   "outputs": [
    {
     "name": "stdout",
     "output_type": "stream",
     "text": [
      "Please enter comma sparated words:100,150,180\n",
      "['100', '150', '180']\n",
      "18, 22, 24\n",
      "None\n"
     ]
    }
   ],
   "source": [
    "def CHQD():\n",
    "    import math\n",
    "    C = 50\n",
    "    H = 30\n",
    "    Q = 0\n",
    "    d = input('Please enter comma sparated words:')\n",
    "    A = []\n",
    "    k = ()\n",
    "    k= d.split(\",\")\n",
    "    print(k)\n",
    "    for i in k:\n",
    "        i = int(i)\n",
    "        Q = math.sqrt((2*C*i)/H)\n",
    "    #print(', '.join())\n",
    "        A.append(str(int(Q)))\n",
    "    print(', '.join(A))\n",
    "        \n",
    "print(CHQD())"
   ]
  }
 ],
 "metadata": {
  "kernelspec": {
   "display_name": "Python 3 (ipykernel)",
   "language": "python",
   "name": "python3"
  },
  "language_info": {
   "codemirror_mode": {
    "name": "ipython",
    "version": 3
   },
   "file_extension": ".py",
   "mimetype": "text/x-python",
   "name": "python",
   "nbconvert_exporter": "python",
   "pygments_lexer": "ipython3",
   "version": "3.9.12"
  }
 },
 "nbformat": 4,
 "nbformat_minor": 5
}
