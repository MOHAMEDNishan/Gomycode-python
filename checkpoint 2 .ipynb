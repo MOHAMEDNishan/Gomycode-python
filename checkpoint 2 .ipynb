{
 "cells": [
  {
   "cell_type": "code",
   "execution_count": 28,
   "id": "e0c803f2",
   "metadata": {},
   "outputs": [
    {
     "name": "stdout",
     "output_type": "stream",
     "text": [
      " enter your first name : Mohamed\n",
      " enter your last name : Nishan\n",
      "entered name is Nishan Mohamed\n"
     ]
    }
   ],
   "source": [
    "firstname = input(\" enter your first name : \")\n",
    "lastname = input(\" enter your last name : \")\n",
    "print(\"entered name is \" + lastname + \" \" + firstname)"
   ]
  },
  {
   "cell_type": "code",
   "execution_count": 29,
   "id": "c20df968",
   "metadata": {},
   "outputs": [
    {
     "name": "stdout",
     "output_type": "stream",
     "text": [
      " write a number : 5\n",
      "the value is 615\n"
     ]
    }
   ],
   "source": [
    "\n",
    "n = int(input(\" write a number : \"))\n",
    "n =  n + 11*(n) + 111*(n) \n",
    "print(\"the value is\" , n)"
   ]
  },
  {
   "cell_type": "code",
   "execution_count": 30,
   "id": "d1abb22d",
   "metadata": {},
   "outputs": [
    {
     "name": "stdout",
     "output_type": "stream",
     "text": [
      "enter a number: 55\n",
      "this number is odd\n"
     ]
    }
   ],
   "source": [
    "num = int(input(\"enter a number: \"))\n",
    "mod = num % 2\n",
    "if mod > 0:\n",
    "    print(\"this number is odd\")\n",
    "else:\n",
    "    print(\"this number is even\")"
   ]
  },
  {
   "cell_type": "code",
   "execution_count": 31,
   "id": "1b023952",
   "metadata": {},
   "outputs": [
    {
     "name": "stdout",
     "output_type": "stream",
     "text": [
      "2002 2009 2016 2023 2037 2044 2051 2058 2072 2079 2086 2093 2107 2114 2121 2128 2142 2149 2156 2163 2177 2184 2191 2198 2212 2219 2226 2233 2247 2254 2261 2268 2282 2289 2296 2303 2317 2324 2331 2338 2352 2359 2366 2373 2387 2394 2401 2408 2422 2429 2436 2443 2457 2464 2471 2478 2492 2499 2506 2513 2527 2534 2541 2548 2562 2569 2576 2583 2597 2604 2611 2618 2632 2639 2646 2653 2667 2674 2681 2688 2702 2709 2716 2723 2737 2744 2751 2758 2772 2779 2786 2793 2807 2814 2821 2828 2842 2849 2856 2863 2877 2884 2891 2898 2912 2919 2926 2933 2947 2954 2961 2968 2982 2989 2996 3003 3017 3024 3031 3038 3052 3059 3066 3073 3087 3094 3101 3108 3122 3129 3136 3143 3157 3164 3171 3178 3192 3199 "
     ]
    }
   ],
   "source": [
    "for i in range(2000,3200):\n",
    "    if (i % 7==0) and (i % 5!=0):\n",
    "     print(i , end=' ')\n",
    "    "
   ]
  },
  {
   "cell_type": "code",
   "execution_count": 32,
   "id": "13395ddd",
   "metadata": {},
   "outputs": [
    {
     "name": "stdout",
     "output_type": "stream",
     "text": [
      " enter any number8\n",
      "factorial of  8  is  40320\n"
     ]
    }
   ],
   "source": [
    "num = int(input(\" enter any number\"))\n",
    "fac = 1\n",
    "for i in range(1, num + 1):\n",
    "    fac = fac * i\n",
    "print(\"factorial of \", num , \" is \", fac)"
   ]
  },
  {
   "cell_type": "code",
   "execution_count": 33,
   "id": "e094ac9f",
   "metadata": {},
   "outputs": [
    {
     "name": "stdout",
     "output_type": "stream",
     "text": [
      " enter a word hello team\n",
      "hlota"
     ]
    }
   ],
   "source": [
    "word = input(\" enter a word \" )\n",
    "# Iterate over index\n",
    "for element in range(0, len(word)):\n",
    "    if element % 2 == 0:\n",
    "        print(word[element], end='')\n",
    "\n"
   ]
  },
  {
   "cell_type": "code",
   "execution_count": 34,
   "id": "d099d188",
   "metadata": {},
   "outputs": [
    {
     "name": "stdout",
     "output_type": "stream",
     "text": [
      " write down the price of the item 700\n",
      " the price after discount is  350.0\n"
     ]
    }
   ],
   "source": [
    "\n",
    "price = int(input(\" write down the price of the item \"))\n",
    "if price >=500:\n",
    "    discount= price * 0.5\n",
    "    priceafterdiscount = price - discount\n",
    "    print(\" the price after discount is \", priceafterdiscount )\n",
    "elif price >=200 and price <500:\n",
    "    discount = price * 0.3\n",
    "    priceafterdiscount = price - discount\n",
    "    print(\" the price after discount is \", priceafterdiscount )\n",
    "else:\n",
    "    discount = price * 0.1\n",
    "    priceafterdiscount = price - discount\n",
    "    print(\" the price after discount is \", priceafterdiscount )"
   ]
  }
 ],
 "metadata": {
  "kernelspec": {
   "display_name": "Python 3 (ipykernel)",
   "language": "python",
   "name": "python3"
  },
  "language_info": {
   "codemirror_mode": {
    "name": "ipython",
    "version": 3
   },
   "file_extension": ".py",
   "mimetype": "text/x-python",
   "name": "python",
   "nbconvert_exporter": "python",
   "pygments_lexer": "ipython3",
   "version": "3.9.12"
  }
 },
 "nbformat": 4,
 "nbformat_minor": 5
}
