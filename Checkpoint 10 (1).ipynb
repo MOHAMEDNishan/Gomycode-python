{
 "cells": [
  {
   "cell_type": "markdown",
   "metadata": {
    "id": "BnA5PscALqYj"
   },
   "source": [
    "# Rectify the code in each cell and **explain the error in comments**"
   ]
  },
  {
   "cell_type": "markdown",
   "metadata": {
    "id": "aZcPJnU5CUJC"
   },
   "source": [
    "### index error"
   ]
  },
  {
   "cell_type": "code",
   "execution_count": 4,
   "metadata": {
    "colab": {
     "base_uri": "https://localhost:8080/",
     "height": 36
    },
    "id": "vizZiOjyCUJF",
    "outputId": "477754ba-47e2-4f69-9e48-50abd9ecfa8d"
   },
   "outputs": [
    {
     "data": {
      "application/vnd.google.colaboratory.intrinsic+json": {
       "type": "string"
      },
      "text/plain": [
       "'hello'"
      ]
     },
     "execution_count": 4,
     "metadata": {},
     "output_type": "execute_result"
    }
   ],
   "source": [
    "mylist=[14, \"hello\", 967]\n",
    "mylist[1]\n",
    "# list contain 3 variables so the max index is [2]"
   ]
  },
  {
   "cell_type": "code",
   "execution_count": 28,
   "metadata": {
    "id": "PctyMmHLfvkb"
   },
   "outputs": [],
   "source": [
    "import pandas as pd\n",
    "import numpy as n\n",
    "# Pandas is not define but pandas is built-in function\n",
    "# NumPy is not define but numpy is built-in function"
   ]
  },
  {
   "cell_type": "markdown",
   "metadata": {
    "id": "QOOGIm3DCUJb"
   },
   "source": [
    "# syntax error"
   ]
  },
  {
   "cell_type": "code",
   "execution_count": 32,
   "metadata": {
    "colab": {
     "base_uri": "https://localhost:8080/"
    },
    "id": "M5R4cb7fCUJb",
    "outputId": "723a8ae7-5cc1-41f6-a221-93909ca7c680"
   },
   "outputs": [
    {
     "name": "stdout",
     "output_type": "stream",
     "text": [
      "python errors\n"
     ]
    }
   ],
   "source": [
    "print(\"python errors\")\n",
    "#Print is not define but print is built-in function"
   ]
  },
  {
   "cell_type": "markdown",
   "metadata": {
    "id": "Zllqh28_CUJh"
   },
   "source": [
    "# key error"
   ]
  },
  {
   "cell_type": "code",
   "execution_count": 7,
   "metadata": {
    "colab": {
     "base_uri": "https://localhost:8080/",
     "height": 36
    },
    "id": "OuWy1e17CUJj",
    "outputId": "442f270e-8a8b-48bb-a3be-a975c8fe9016"
   },
   "outputs": [
    {
     "data": {
      "application/vnd.google.colaboratory.intrinsic+json": {
       "type": "string"
      },
      "text/plain": [
       "'hello'"
      ]
     },
     "execution_count": 7,
     "metadata": {},
     "output_type": "execute_result"
    }
   ],
   "source": [
    "mydictionnary={True:\"hello\",False:\"bye\", '3':\"python\"}\n",
    "mydictionnary[True]"
   ]
  },
  {
   "cell_type": "markdown",
   "metadata": {
    "id": "jc1wRC1aCUJw"
   },
   "source": [
    "# indentation error"
   ]
  },
  {
   "cell_type": "code",
   "execution_count": 8,
   "metadata": {
    "colab": {
     "base_uri": "https://localhost:8080/"
    },
    "id": "meWj9PP_CUJy",
    "outputId": "65a74e15-3be1-450f-9e2c-47f9d3230d33"
   },
   "outputs": [
    {
     "name": "stdout",
     "output_type": "stream",
     "text": [
      "14\n",
      "15\n",
      "16\n",
      "17\n",
      "18\n",
      "19\n",
      "20\n",
      "21\n",
      "22\n",
      "23\n",
      "24\n",
      "25\n",
      "26\n",
      "27\n",
      "28\n",
      "29\n",
      "30\n",
      "31\n",
      "32\n",
      "33\n",
      "34\n",
      "35\n",
      "36\n",
      "37\n",
      "38\n",
      "39\n",
      "40\n",
      "41\n",
      "42\n",
      "43\n",
      "44\n",
      "45\n",
      "46\n",
      "47\n",
      "48\n",
      "49\n",
      "50\n",
      "51\n",
      "52\n",
      "53\n",
      "54\n",
      "55\n",
      "56\n",
      "57\n",
      "58\n",
      "59\n",
      "60\n",
      "61\n",
      "62\n",
      "63\n",
      "64\n",
      "65\n",
      "66\n",
      "67\n",
      "68\n",
      "69\n",
      "70\n",
      "71\n",
      "72\n",
      "73\n",
      "74\n",
      "75\n",
      "76\n",
      "77\n"
     ]
    }
   ],
   "source": [
    "i=14\n",
    "while i<78:\n",
    "  print(i)\n",
    "  i+=1\n",
    "# print needed to be spaced "
   ]
  },
  {
   "cell_type": "markdown",
   "metadata": {
    "id": "-g_eEuEICUJ5"
   },
   "source": [
    "# StopIteration"
   ]
  },
  {
   "cell_type": "code",
   "execution_count": 9,
   "metadata": {
    "colab": {
     "base_uri": "https://localhost:8080/"
    },
    "id": "tJv5vQQGCUJ5",
    "outputId": "8bdc3c41-b4a0-42c2-cc13-050bc2268f10"
   },
   "outputs": [
    {
     "data": {
      "text/plain": [
       "3"
      ]
     },
     "execution_count": 9,
     "metadata": {},
     "output_type": "execute_result"
    }
   ],
   "source": [
    "\n",
    "it=iter([1,2,3])\n",
    "next(it)\n",
    "next(it)\n",
    "next(it)\n",
    "# their is three varibles so it need three next(it) not four\n",
    "\n"
   ]
  },
  {
   "cell_type": "markdown",
   "metadata": {
    "id": "0Q0fJoS1CUKA"
   },
   "source": [
    "# TypeError\n"
   ]
  },
  {
   "cell_type": "code",
   "execution_count": 12,
   "metadata": {
    "colab": {
     "base_uri": "https://localhost:8080/"
    },
    "id": "rh6bhiQ6CUKA",
    "outputId": "c01a3a1d-e684-4633-aba5-f0c6594ba5d5"
   },
   "outputs": [
    {
     "data": {
      "text/plain": [
       "30"
      ]
     },
     "execution_count": 12,
     "metadata": {},
     "output_type": "execute_result"
    }
   ],
   "source": [
    "15 + 15\n",
    "# it cant add str to int\n"
   ]
  },
  {
   "cell_type": "markdown",
   "metadata": {
    "id": "-xs5Em9QCUKF"
   },
   "source": [
    "# ValueError"
   ]
  },
  {
   "cell_type": "code",
   "execution_count": 1,
   "metadata": {
    "colab": {
     "base_uri": "https://localhost:8080/",
     "height": 165
    },
    "id": "_rUS-J3dCUKH",
    "outputId": "627fca39-4514-4bac-beec-ce33537c5a77"
   },
   "outputs": [
    {
     "data": {
      "text/plain": [
       "3"
      ]
     },
     "execution_count": 1,
     "metadata": {},
     "output_type": "execute_result"
    }
   ],
   "source": [
    "int(3)"
   ]
  },
  {
   "cell_type": "markdown",
   "metadata": {
    "id": "SIKftfJSCUKM"
   },
   "source": [
    "# NameError"
   ]
  },
  {
   "cell_type": "code",
   "execution_count": 21,
   "metadata": {
    "colab": {
     "base_uri": "https://localhost:8080/",
     "height": 36
    },
    "id": "j3ZhAO67CUKM",
    "outputId": "ea6cb5ca-3570-42b9-f9a0-366a697fa3fb"
   },
   "outputs": [
    {
     "data": {
      "application/vnd.google.colaboratory.intrinsic+json": {
       "type": "string"
      },
      "text/plain": [
       "'python'"
      ]
     },
     "execution_count": 21,
     "metadata": {},
     "output_type": "execute_result"
    }
   ],
   "source": [
    "\"python\"\n",
    "# python is not define but \"python is define\""
   ]
  },
  {
   "cell_type": "markdown",
   "metadata": {
    "id": "kNtxxeuaCUKT"
   },
   "source": [
    "# ZeroDivisionError"
   ]
  },
  {
   "cell_type": "code",
   "execution_count": 18,
   "metadata": {
    "id": "hTaVRw1GCUKW"
   },
   "outputs": [],
   "source": [
    "x=19/0\n",
    "# can't divide any number by zero"
   ]
  }
 ],
 "metadata": {
  "colab": {
   "provenance": []
  },
  "kernelspec": {
   "display_name": "Python 3 (ipykernel)",
   "language": "python",
   "name": "python3"
  },
  "language_info": {
   "codemirror_mode": {
    "name": "ipython",
    "version": 3
   },
   "file_extension": ".py",
   "mimetype": "text/x-python",
   "name": "python",
   "nbconvert_exporter": "python",
   "pygments_lexer": "ipython3",
   "version": "3.9.12"
  }
 },
 "nbformat": 4,
 "nbformat_minor": 1
}
